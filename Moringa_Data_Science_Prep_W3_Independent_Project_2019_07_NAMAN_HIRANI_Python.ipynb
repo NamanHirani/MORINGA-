{
  "nbformat": 4,
  "nbformat_minor": 0,
  "metadata": {
    "colab": {
      "name": "Moringa_Data_Science_Prep_W3_Independent_Project_2019_07_NAMAN_HIRANI_Python",
      "provenance": [],
      "authorship_tag": "ABX9TyM2TuHbHXO0ABR2LpPh8ErD",
      "include_colab_link": true
    },
    "kernelspec": {
      "name": "python3",
      "display_name": "Python 3"
    },
    "language_info": {
      "name": "python"
    }
  },
  "cells": [
    {
      "cell_type": "markdown",
      "metadata": {
        "id": "view-in-github",
        "colab_type": "text"
      },
      "source": [
        "<a href=\"https://colab.research.google.com/github/NamanHirani/MORINGA-/blob/main/Moringa_Data_Science_Prep_W3_Independent_Project_2019_07_NAMAN_HIRANI_Python.ipynb\" target=\"_parent\"><img src=\"https://colab.research.google.com/assets/colab-badge.svg\" alt=\"Open In Colab\"/></a>"
      ]
    },
    {
      "cell_type": "code",
      "metadata": {
        "id": "mp7269MYw2ld"
      },
      "source": [
        "#umporting numpys\n",
        "import numpy as np"
      ],
      "execution_count": 1,
      "outputs": []
    },
    {
      "cell_type": "code",
      "metadata": {
        "id": "-TffqiDtWFF-"
      },
      "source": [
        ""
      ],
      "execution_count": null,
      "outputs": []
    }
  ]
}